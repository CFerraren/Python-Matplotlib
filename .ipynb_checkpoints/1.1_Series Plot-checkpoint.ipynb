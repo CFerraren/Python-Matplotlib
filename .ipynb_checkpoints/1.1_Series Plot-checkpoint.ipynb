{
 "cells": [
  {
   "cell_type": "code",
   "execution_count": 1,
   "metadata": {},
   "outputs": [],
   "source": [
    "# Import Libraries\n",
    "\n",
    "import os\n",
    "import pandas as pd\n",
    "import numpy as np\n",
    "\n",
    "%matplotlib inline"
   ]
  },
  {
   "cell_type": "code",
   "execution_count": 2,
   "metadata": {},
   "outputs": [],
   "source": [
    "# Location\n",
    "\n",
    "file = os.path.join('Resources', 'AAPL.csv')"
   ]
  },
  {
   "cell_type": "code",
   "execution_count": 3,
   "metadata": {},
   "outputs": [
    {
     "data": {
      "text/html": [
       "<div>\n",
       "<style scoped>\n",
       "    .dataframe tbody tr th:only-of-type {\n",
       "        vertical-align: middle;\n",
       "    }\n",
       "\n",
       "    .dataframe tbody tr th {\n",
       "        vertical-align: top;\n",
       "    }\n",
       "\n",
       "    .dataframe thead th {\n",
       "        text-align: right;\n",
       "    }\n",
       "</style>\n",
       "<table border=\"1\" class=\"dataframe\">\n",
       "  <thead>\n",
       "    <tr style=\"text-align: right;\">\n",
       "      <th></th>\n",
       "      <th>Date</th>\n",
       "      <th>Open</th>\n",
       "      <th>High</th>\n",
       "      <th>Low</th>\n",
       "      <th>Close</th>\n",
       "      <th>Volume</th>\n",
       "      <th>Adj Close</th>\n",
       "    </tr>\n",
       "  </thead>\n",
       "  <tbody>\n",
       "    <tr>\n",
       "      <th>0</th>\n",
       "      <td>2016-09-30</td>\n",
       "      <td>112.459999</td>\n",
       "      <td>113.370003</td>\n",
       "      <td>111.800003</td>\n",
       "      <td>113.050003</td>\n",
       "      <td>36379100</td>\n",
       "      <td>113.050003</td>\n",
       "    </tr>\n",
       "    <tr>\n",
       "      <th>1</th>\n",
       "      <td>2016-09-29</td>\n",
       "      <td>113.160004</td>\n",
       "      <td>113.800003</td>\n",
       "      <td>111.800003</td>\n",
       "      <td>112.180000</td>\n",
       "      <td>35887000</td>\n",
       "      <td>112.180000</td>\n",
       "    </tr>\n",
       "    <tr>\n",
       "      <th>2</th>\n",
       "      <td>2016-09-28</td>\n",
       "      <td>113.690002</td>\n",
       "      <td>114.639999</td>\n",
       "      <td>113.430000</td>\n",
       "      <td>113.949997</td>\n",
       "      <td>29641100</td>\n",
       "      <td>113.949997</td>\n",
       "    </tr>\n",
       "    <tr>\n",
       "      <th>3</th>\n",
       "      <td>2016-09-27</td>\n",
       "      <td>113.000000</td>\n",
       "      <td>113.180000</td>\n",
       "      <td>112.339996</td>\n",
       "      <td>113.089996</td>\n",
       "      <td>24607400</td>\n",
       "      <td>113.089996</td>\n",
       "    </tr>\n",
       "    <tr>\n",
       "      <th>4</th>\n",
       "      <td>2016-09-26</td>\n",
       "      <td>111.639999</td>\n",
       "      <td>113.389999</td>\n",
       "      <td>111.550003</td>\n",
       "      <td>112.879997</td>\n",
       "      <td>29869400</td>\n",
       "      <td>112.879997</td>\n",
       "    </tr>\n",
       "  </tbody>\n",
       "</table>\n",
       "</div>"
      ],
      "text/plain": [
       "         Date        Open        High         Low       Close    Volume  \\\n",
       "0  2016-09-30  112.459999  113.370003  111.800003  113.050003  36379100   \n",
       "1  2016-09-29  113.160004  113.800003  111.800003  112.180000  35887000   \n",
       "2  2016-09-28  113.690002  114.639999  113.430000  113.949997  29641100   \n",
       "3  2016-09-27  113.000000  113.180000  112.339996  113.089996  24607400   \n",
       "4  2016-09-26  111.639999  113.389999  111.550003  112.879997  29869400   \n",
       "\n",
       "    Adj Close  \n",
       "0  113.050003  \n",
       "1  112.180000  \n",
       "2  113.949997  \n",
       "3  113.089996  \n",
       "4  112.879997  "
      ]
     },
     "execution_count": 3,
     "metadata": {},
     "output_type": "execute_result"
    }
   ],
   "source": [
    "# Read csv\n",
    "\n",
    "aapl = pd.read_csv(file)\n",
    "aapl.head()"
   ]
  },
  {
   "cell_type": "code",
   "execution_count": 4,
   "metadata": {},
   "outputs": [
    {
     "data": {
      "text/html": [
       "<div>\n",
       "<style scoped>\n",
       "    .dataframe tbody tr th:only-of-type {\n",
       "        vertical-align: middle;\n",
       "    }\n",
       "\n",
       "    .dataframe tbody tr th {\n",
       "        vertical-align: top;\n",
       "    }\n",
       "\n",
       "    .dataframe thead th {\n",
       "        text-align: right;\n",
       "    }\n",
       "</style>\n",
       "<table border=\"1\" class=\"dataframe\">\n",
       "  <thead>\n",
       "    <tr style=\"text-align: right;\">\n",
       "      <th></th>\n",
       "      <th>Date</th>\n",
       "      <th>Open</th>\n",
       "      <th>High</th>\n",
       "      <th>Low</th>\n",
       "      <th>Close</th>\n",
       "      <th>Volume</th>\n",
       "      <th>Adj Close</th>\n",
       "    </tr>\n",
       "  </thead>\n",
       "  <tbody>\n",
       "    <tr>\n",
       "      <th>756</th>\n",
       "      <td>2013-10-01</td>\n",
       "      <td>478.449989</td>\n",
       "      <td>489.140007</td>\n",
       "      <td>478.379974</td>\n",
       "      <td>487.960007</td>\n",
       "      <td>88470900</td>\n",
       "      <td>65.621057</td>\n",
       "    </tr>\n",
       "    <tr>\n",
       "      <th>755</th>\n",
       "      <td>2013-10-02</td>\n",
       "      <td>485.630020</td>\n",
       "      <td>491.799988</td>\n",
       "      <td>483.749977</td>\n",
       "      <td>489.559990</td>\n",
       "      <td>72296000</td>\n",
       "      <td>65.836223</td>\n",
       "    </tr>\n",
       "    <tr>\n",
       "      <th>754</th>\n",
       "      <td>2013-10-03</td>\n",
       "      <td>490.510025</td>\n",
       "      <td>492.350014</td>\n",
       "      <td>480.739975</td>\n",
       "      <td>483.409996</td>\n",
       "      <td>80688300</td>\n",
       "      <td>65.009170</td>\n",
       "    </tr>\n",
       "    <tr>\n",
       "      <th>753</th>\n",
       "      <td>2013-10-04</td>\n",
       "      <td>483.859993</td>\n",
       "      <td>484.599983</td>\n",
       "      <td>478.600006</td>\n",
       "      <td>483.030014</td>\n",
       "      <td>64717100</td>\n",
       "      <td>64.958069</td>\n",
       "    </tr>\n",
       "    <tr>\n",
       "      <th>752</th>\n",
       "      <td>2013-10-07</td>\n",
       "      <td>486.559975</td>\n",
       "      <td>492.649994</td>\n",
       "      <td>485.350014</td>\n",
       "      <td>487.750015</td>\n",
       "      <td>78073100</td>\n",
       "      <td>65.592817</td>\n",
       "    </tr>\n",
       "  </tbody>\n",
       "</table>\n",
       "</div>"
      ],
      "text/plain": [
       "           Date        Open        High         Low       Close    Volume  \\\n",
       "756  2013-10-01  478.449989  489.140007  478.379974  487.960007  88470900   \n",
       "755  2013-10-02  485.630020  491.799988  483.749977  489.559990  72296000   \n",
       "754  2013-10-03  490.510025  492.350014  480.739975  483.409996  80688300   \n",
       "753  2013-10-04  483.859993  484.599983  478.600006  483.030014  64717100   \n",
       "752  2013-10-07  486.559975  492.649994  485.350014  487.750015  78073100   \n",
       "\n",
       "     Adj Close  \n",
       "756  65.621057  \n",
       "755  65.836223  \n",
       "754  65.009170  \n",
       "753  64.958069  \n",
       "752  65.592817  "
      ]
     },
     "execution_count": 4,
     "metadata": {},
     "output_type": "execute_result"
    }
   ],
   "source": [
    "# Reverse the dataframe to show latest date\n",
    "\n",
    "aapl=aapl[::-1]\n",
    "aapl.head()"
   ]
  },
  {
   "cell_type": "markdown",
   "metadata": {},
   "source": [
    "---"
   ]
  },
  {
   "cell_type": "markdown",
   "metadata": {},
   "source": [
    "#### Series Plot"
   ]
  },
  {
   "cell_type": "code",
   "execution_count": 5,
   "metadata": {},
   "outputs": [
    {
     "data": {
      "text/plain": [
       "<matplotlib.axes._subplots.AxesSubplot at 0x7f83556ed1d0>"
      ]
     },
     "execution_count": 5,
     "metadata": {},
     "output_type": "execute_result"
    },
    {
     "data": {
      "image/png": "[encoded data removed]",
      "text/plain": [
       "<Figure size 432x288 with 1 Axes>"
      ]
     },
     "metadata": {
      "needs_background": "light"
     },
     "output_type": "display_data"
    }
   ],
   "source": [
    "# Default for plot is Line\n",
    "\n",
    "aapl['Adj Close'].plot()"
   ]
  },
  {
   "cell_type": "markdown",
   "metadata": {},
   "source": [
    "#### Kind parameter to Line"
   ]
  },
  {
   "cell_type": "code",
   "execution_count": 6,
   "metadata": {},
   "outputs": [
    {
     "data": {
      "text/plain": [
       "<matplotlib.axes._subplots.AxesSubplot at 0x7f83536209b0>"
      ]
     },
     "execution_count": 6,
     "metadata": {},
     "output_type": "execute_result"
    },
    {
     "data": {
      "image/png": "[encoded data removed]",
      "text/plain": [
       "<Figure size 432x288 with 1 Axes>"
      ]
     },
     "metadata": {
      "needs_background": "light"
     },
     "output_type": "display_data"
    }
   ],
   "source": [
    "aapl['Close'].plot(kind='line')"
   ]
  },
  {
   "cell_type": "code",
   "execution_count": null,
   "metadata": {},
   "outputs": [],
   "source": []
  }
 ],
 "metadata": {
  "kernelspec": {
   "display_name": "Python 3",
   "language": "python",
   "name": "python3"
  },
  "language_info": {
   "codemirror_mode": {
    "name": "ipython",
    "version": 3
   },
   "file_extension": ".py",
   "mimetype": "text/x-python",
   "name": "python",
   "nbconvert_exporter": "python",
   "pygments_lexer": "ipython3",
   "version": "3.6.5"
  }
 },
 "nbformat": 4,
 "nbformat_minor": 2
}
