{
 "cells": [
  {
   "cell_type": "code",
   "execution_count": 2,
   "metadata": {},
   "outputs": [],
   "source": [
    "# Import Libraries\n",
    "\n",
    "import os\n",
    "import pandas as pd\n",
    "import numpy as np\n",
    "\n",
    "%matplotlib inline"
   ]
  },
  {
   "cell_type": "code",
   "execution_count": 3,
   "metadata": {},
   "outputs": [],
   "source": [
    "# Location\n",
    "\n",
    "file = os.path.join('Resources', 'AAPL.csv')"
   ]
  },
  {
   "cell_type": "code",
   "execution_count": 4,
   "metadata": {},
   "outputs": [
    {
     "data": {
      "text/html": [
       "<div>\n",
       "<style scoped>\n",
       "    .dataframe tbody tr th:only-of-type {\n",
       "        vertical-align: middle;\n",
       "    }\n",
       "\n",
       "    .dataframe tbody tr th {\n",
       "        vertical-align: top;\n",
       "    }\n",
       "\n",
       "    .dataframe thead th {\n",
       "        text-align: right;\n",
       "    }\n",
       "</style>\n",
       "<table border=\"1\" class=\"dataframe\">\n",
       "  <thead>\n",
       "    <tr style=\"text-align: right;\">\n",
       "      <th></th>\n",
       "      <th>Date</th>\n",
       "      <th>Open</th>\n",
       "      <th>High</th>\n",
       "      <th>Low</th>\n",
       "      <th>Close</th>\n",
       "      <th>Volume</th>\n",
       "      <th>Adj Close</th>\n",
       "    </tr>\n",
       "  </thead>\n",
       "  <tbody>\n",
       "    <tr>\n",
       "      <th>0</th>\n",
       "      <td>2016-09-30</td>\n",
       "      <td>112.459999</td>\n",
       "      <td>113.370003</td>\n",
       "      <td>111.800003</td>\n",
       "      <td>113.050003</td>\n",
       "      <td>36379100</td>\n",
       "      <td>113.050003</td>\n",
       "    </tr>\n",
       "    <tr>\n",
       "      <th>1</th>\n",
       "      <td>2016-09-29</td>\n",
       "      <td>113.160004</td>\n",
       "      <td>113.800003</td>\n",
       "      <td>111.800003</td>\n",
       "      <td>112.180000</td>\n",
       "      <td>35887000</td>\n",
       "      <td>112.180000</td>\n",
       "    </tr>\n",
       "    <tr>\n",
       "      <th>2</th>\n",
       "      <td>2016-09-28</td>\n",
       "      <td>113.690002</td>\n",
       "      <td>114.639999</td>\n",
       "      <td>113.430000</td>\n",
       "      <td>113.949997</td>\n",
       "      <td>29641100</td>\n",
       "      <td>113.949997</td>\n",
       "    </tr>\n",
       "    <tr>\n",
       "      <th>3</th>\n",
       "      <td>2016-09-27</td>\n",
       "      <td>113.000000</td>\n",
       "      <td>113.180000</td>\n",
       "      <td>112.339996</td>\n",
       "      <td>113.089996</td>\n",
       "      <td>24607400</td>\n",
       "      <td>113.089996</td>\n",
       "    </tr>\n",
       "    <tr>\n",
       "      <th>4</th>\n",
       "      <td>2016-09-26</td>\n",
       "      <td>111.639999</td>\n",
       "      <td>113.389999</td>\n",
       "      <td>111.550003</td>\n",
       "      <td>112.879997</td>\n",
       "      <td>29869400</td>\n",
       "      <td>112.879997</td>\n",
       "    </tr>\n",
       "  </tbody>\n",
       "</table>\n",
       "</div>"
      ],
      "text/plain": [
       "         Date        Open        High         Low       Close    Volume  \\\n",
       "0  2016-09-30  112.459999  113.370003  111.800003  113.050003  36379100   \n",
       "1  2016-09-29  113.160004  113.800003  111.800003  112.180000  35887000   \n",
       "2  2016-09-28  113.690002  114.639999  113.430000  113.949997  29641100   \n",
       "3  2016-09-27  113.000000  113.180000  112.339996  113.089996  24607400   \n",
       "4  2016-09-26  111.639999  113.389999  111.550003  112.879997  29869400   \n",
       "\n",
       "    Adj Close  \n",
       "0  113.050003  \n",
       "1  112.180000  \n",
       "2  113.949997  \n",
       "3  113.089996  \n",
       "4  112.879997  "
      ]
     },
     "execution_count": 4,
     "metadata": {},
     "output_type": "execute_result"
    }
   ],
   "source": [
    "# Read csv\n",
    "\n",
    "aapl = pd.read_csv(file)\n",
    "aapl.head()"
   ]
  },
  {
   "cell_type": "code",
   "execution_count": null,
   "metadata": {},
   "outputs": [],
   "source": []
  }
 ],
 "metadata": {
  "kernelspec": {
   "display_name": "Python 3",
   "language": "python",
   "name": "python3"
  },
  "language_info": {
   "codemirror_mode": {
    "name": "ipython",
    "version": 3
   },
   "file_extension": ".py",
   "mimetype": "text/x-python",
   "name": "python",
   "nbconvert_exporter": "python",
   "pygments_lexer": "ipython3",
   "version": "3.6.5"
  }
 },
 "nbformat": 4,
 "nbformat_minor": 2
}
